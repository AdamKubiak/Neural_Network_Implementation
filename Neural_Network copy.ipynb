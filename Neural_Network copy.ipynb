{
 "cells": [
  {
   "cell_type": "code",
   "execution_count": 150,
   "metadata": {},
   "outputs": [],
   "source": [
    "import numpy as np\n",
    "import pandas as pd\n",
    "import one_hot\n",
    "import math\n",
    "\n",
    "\n",
    "def SigmoidActivationFunction(weightedInput):\n",
    "    return 1/(1 + np.exp(-weightedInput))\n",
    "\n",
    "def SigmoidActivationFunctionDerivative(weightedInput):\n",
    "    activation = SigmoidActivationFunction(weightedInput)\n",
    "    \n",
    "    return np.exp(-weightedInput)/((1+np.exp(-weightedInput))**2)\n",
    "class Layer:\n",
    "    def __init__(self,inputNodes,outputNodes) -> None:\n",
    "\n",
    "        self.inputNodes = inputNodes\n",
    "        self.outputNodes = outputNodes\n",
    "        random = np.random.RandomState(1)\n",
    "        \"\"\"\n",
    "        WEIGHTS\n",
    "        tworzy 2-wymiarową listę z wartościami wag \n",
    "        Przykładowo gdy warstwa ma 2 wejścia i 3 wyjścia\n",
    "        [w11   w21   w31]\n",
    "        [w12   w22   w32]\n",
    "        [w13   w23   w33]\n",
    "        Z wartości pierwszej kolumny obliczana jest wartość wyjściowa dla 1 wyjścia\n",
    "        Z wartości drugiej kolmny obliczana jest wartość wyjściowa 2 wyjścia\n",
    "        BIAS_VALUES\n",
    "        tworzy 1-wymiarową listę o wymiarze ilości wyjść dla warstwy\n",
    "        Do wartości wyliczonej z popagacji do przodu do wyjścia dodawana jest wartość bias\n",
    "        3 wyjścia\n",
    "        [bias1 bias2 bias3]\n",
    "        \"\"\"\n",
    "        self.weights = random.normal(loc=0.0, scale=0.1, size=(inputNodes, outputNodes))\n",
    "        self.bias_values = np.zeros(outputNodes)\n",
    "        self.costGradientW = np.zeros(shape = (inputNodes,outputNodes))\n",
    "        self.costGradientB = np.zeros(shape = (outputNodes))\n",
    "\n",
    "\n",
    "    \"\"\"\n",
    "    Gdy mamy doczynienia z pierwszą warstwą sieci 2 cechy wejścia i 2 klasy wyścia(layer(2,2))\n",
    "    funkcja przelicza cechy*wagi i zwraca wartości wyjściowych neurownów \n",
    "    Gdy wsadzimy w funkcję listę [n_próbek, n_cech] to zwraca [n_próbek, n_neuronów_wyjściowych]\n",
    "    dla 5 próbek i sieci (2,2) [5,2]\n",
    "    X : tablica [n_próbek, n_cech]\n",
    "    -> [n_próbek, n_outputNodes]\n",
    "    \"\"\"\n",
    "    def forward_propagation(self,X):\n",
    "        self.input = X\n",
    "        output_values = np.dot(X,self.weights) + self.bias_values\n",
    "        self.z = output_values\n",
    "        activation_values = SigmoidActivationFunction(output_values)\n",
    "        self.a = activation_values\n",
    "        return activation_values\n",
    "\n",
    "    \"\"\"\n",
    "    X: tablica [n_próbek,n_cech]\n",
    "    -> tablica [n_próbek]\n",
    "    \"\"\"\n",
    "    def predict(self,X):\n",
    "        activation_values = self.forward_propagation(X)\n",
    "\n",
    "        predictions = np.argmax(activation_values,axis=1)\n",
    "\n",
    "        return predictions\n",
    "\n",
    "    def NodeCost(self,outputActivation,expectedOutput):\n",
    "        error = (outputActivation - expectedOutput)**2\n",
    "        return 0.5*error\n",
    "\n",
    "class NeuralNetwork:\n",
    "    def __init__(self,layerSizes,epoch,eta,minibatch_size) -> None:\n",
    "        self.layers = [None]*(len(layerSizes)-1)\n",
    "        for i in range(len(self.layers)):\n",
    "            self.layers[i] = Layer(layerSizes[i],layerSizes[i+1])\n",
    "\n",
    "        self.l2 = 0.\n",
    "        self.epoch = epoch\n",
    "        self.eta = eta\n",
    "        self.errors = []\n",
    "        self.minibatch_size = minibatch_size\n",
    "\n",
    "    def network_forward_propagation(self,X):\n",
    "        for layer in self.layers:\n",
    "            X = layer.forward_propagation(X)\n",
    "\n",
    "        return X\n",
    "\n",
    "    def network_predict(self,X):\n",
    "        activation_values = self.network_forward_propagation(X)\n",
    "\n",
    "        predictions = np.argmax(activation_values,axis = 1)\n",
    "\n",
    "        return predictions\n",
    "    \n",
    "    def network_loss(self,X,y, activation_values):\n",
    "\n",
    "        outputLayer = self.layers[len(self.layers)-1]\n",
    "        total_cost = 0\n",
    "        cost_single_data = 0\n",
    "\n",
    "        for xi, target in zip(activation_values,y):\n",
    "            for i in range(len(activation_values[0])):\n",
    "                cost_single_data += outputLayer.NodeCost(xi[i],target[i]) \n",
    "\n",
    "            total_cost += cost_single_data\n",
    "            cost_single_data = 0\n",
    "\n",
    "        return total_cost / len(X)\n",
    "\n",
    "    def UpdateAllGradients(self,y, y_predict):\n",
    "        delta = y_predict - y\n",
    "        weights = np.identity(delta.shape[1])\n",
    "\n",
    "        for i in range(-1, -len(self.layers)-1, -1):\n",
    "            layer = self.layers[i]\n",
    "            delta = np.dot(delta, weights.T) * SigmoidActivationFunctionDerivative(layer.z)\n",
    "            dWeights  =  np.dot(layer.input.T, delta)\n",
    "            layer.weights -= dWeights * self.eta\n",
    "            layer.bias_values -= np.sum(delta) * self.eta\n",
    "            weights = layer.weights \n",
    "\n",
    "    def learn(self,X,y):\n",
    "        y = one_hot._onehot(y,self.layers[len(self.layers)-1].outputNodes)\n",
    "        for i in range(self.epoch):\n",
    "            y_predicted = activation_values = self.network_forward_propagation(X)\n",
    "            self.UpdateAllGradients(y, y_predicted)\n",
    "            self.errors.append(self.network_loss(X,y, activation_values))"
   ]
  },
  {
   "cell_type": "code",
   "execution_count": 71,
   "metadata": {},
   "outputs": [
    {
     "name": "stdout",
     "output_type": "stream",
     "text": [
      "[2 2 2 2 2 2 2 2 2 2 2 2 2 2 2 2 2 2 2 2 2 2 2 2 2 2 2 2 2 2 2 2 2 2 2 2 2\n",
      " 2 2 2 2 2 2 2 2 2 2 2 2 2 1 1 1 1 1 1 1 1 1 1 1 1 1 1 1 1 1 1 1 1 1 1 1 1\n",
      " 1 1 1 1 1 1 1 1 1 1 1 1 1 1 1 1 1 1 1 1 1 1 1 1 1 1 0 0 0 0 0 0 0 0 0 0 0\n",
      " 0 0 0 0 0 0 0 0 0 0 0 0 0 0 0 0 0 0 0 0 0 0 0 0 0 0 0 0 0 0 0 0 0 0 0 0 0\n",
      " 0 0]\n"
     ]
    }
   ],
   "source": [
    "df = pd.read_csv('https://archive.ics.uci.edu/ml/'\n",
    "        'machine-learning-databases/iris/iris.data', header=None)\n",
    "\n",
    "y1 =  df.iloc[0:150,4].values\n",
    "y = np.where(y1[100:150] == 'Iris-virginica',2,0)\n",
    "y2 = np.where(y1[50:100] == 'Iris-versicolor',1,0)\n",
    "y3 = np.where(y1[0:50] == 'Iris-setosa',0,1)\n",
    "y_final = np.append(y,y2)\n",
    "Y = np.append(y_final,y3)\n",
    "X = df.iloc[0:150,[0,2]].values\n",
    "print(Y)"
   ]
  },
  {
   "cell_type": "code",
   "execution_count": 158,
   "metadata": {},
   "outputs": [],
   "source": [
    "layers = [2, 100, 15, 3]\n",
    "network = NeuralNetwork(layers,10000,0.008,10)\n",
    "network.learn(X,Y)"
   ]
  },
  {
   "cell_type": "code",
   "execution_count": 56,
   "metadata": {},
   "outputs": [
    {
     "data": {
      "image/png": "[encoded data removed]",
      "text/plain": [
       "<Figure size 432x288 with 1 Axes>"
      ]
     },
     "metadata": {
      "needs_background": "light"
     },
     "output_type": "display_data"
    }
   ],
   "source": [
    "import matplotlib.pyplot as plt\n",
    "plt.scatter(X[:50,0],X[:50,1],color = 'red', marker = 'o', label = 'Setosa')\n",
    "plt.scatter(X[50:100,0],X[50:100,1],color = 'blue', marker = 'x', label = 'Versicolor')\n",
    "plt.scatter(X[100:150,0],X[100:150,1],color = 'yellow', marker = 'o', label = 'Virginica')\n",
    "plt.xlabel('Długość działki [cm]')\n",
    "plt.ylabel('Długość płatka [cm]')\n",
    "plt.show()"
   ]
  },
  {
   "cell_type": "code",
   "execution_count": 159,
   "metadata": {},
   "outputs": [
    {
     "data": {
      "image/png": "[encoded data removed]",
      "text/plain": [
       "<Figure size 432x288 with 1 Axes>"
      ]
     },
     "metadata": {
      "needs_background": "light"
     },
     "output_type": "display_data"
    }
   ],
   "source": [
    "plt.plot(range(1,len(network.errors)+1),network.errors,marker = 'o')\n",
    "plt.xlabel('Epoki')\n",
    "plt.ylabel('Wartosc bledu')\n",
    "plt.show()"
   ]
  },
  {
   "cell_type": "code",
   "execution_count": 58,
   "metadata": {},
   "outputs": [],
   "source": [
    "from matplotlib.colors import ListedColormap\n",
    "\n",
    "\n",
    "def plot_decision_regions(X, y, classifier, resolution=0.02):\n",
    "\n",
    "    # konfiguruje generator znaczników i mapę kolorów\n",
    "    markers = ('s', 'x', 'o', '^', 'v')\n",
    "    colors = ('red', 'blue', 'lightgreen', 'gray', 'cyan')\n",
    "    cmap = ListedColormap(colors[:len(np.unique(y))])\n",
    "\n",
    "    # rysuje wykres powierzchni decyzyjnej\n",
    "    x1_min, x1_max = X[:, 0].min() - 1, X[:, 0].max() + 1\n",
    "    x2_min, x2_max = X[:, 1].min() - 1, X[:, 1].max() + 1\n",
    "    xx1, xx2 = np.meshgrid(np.arange(x1_min, x1_max, resolution),\n",
    "                           np.arange(x2_min, x2_max, resolution))\n",
    "    Z = classifier.network_predict(np.array([xx1.ravel(), xx2.ravel()]).T)\n",
    "    Z = Z.reshape(xx1.shape)\n",
    "    plt.contourf(xx1, xx2, Z, alpha=0.3, cmap=cmap)\n",
    "    plt.xlim(xx1.min(), xx1.max())\n",
    "    plt.ylim(xx2.min(), xx2.max())\n",
    "\n",
    "    # rysuje wykres próbek\n",
    "    for idx, cl in enumerate(np.unique(y)):\n",
    "        plt.scatter(x=X[y == cl, 0], \n",
    "                    y=X[y == cl, 1],\n",
    "                    alpha=0.8, \n",
    "                    c=colors[idx],\n",
    "                    marker=markers[idx], \n",
    "                    label=cl, \n",
    "                    edgecolor='black')"
   ]
  },
  {
   "cell_type": "code",
   "execution_count": 59,
   "metadata": {},
   "outputs": [
    {
     "name": "stdout",
     "output_type": "stream",
     "text": [
      "[2 2 2 2 2 2 2 2 2 2 2 2 2 2 2 2 2 2 2 2 2 2 2 2 2 2 2 2 2 2 2 2 2 2 2 2 2\n",
      " 2 2 2 2 2 2 2 2 2 2 2 2 2 0 0 0 0 0 0 0 0 0 0 0 0 0 0 0 0 0 0 0 0 0 0 0 0\n",
      " 0 0 0 0 0 1 0 0 0 0 0 0 0 0 0 0 0 0 0 0 0 0 0 0 2 0 0 0 0 0 0 0 0 0 0 0 0\n",
      " 0 0 0 0 0 0 0 0 0 0 0 0 0 0 0 0 0 0 0 0 0 0 0 0 0 0 0 0 0 0 0 0 0 0 0 0 0\n",
      " 0 0]\n"
     ]
    }
   ],
   "source": [
    "print(network.network_predict(X))"
   ]
  },
  {
   "cell_type": "code",
   "execution_count": 160,
   "metadata": {},
   "outputs": [
    {
     "data": {
      "image/png": "[encoded data removed]",
      "text/plain": [
       "<Figure size 432x288 with 1 Axes>"
      ]
     },
     "metadata": {
      "needs_background": "light"
     },
     "output_type": "display_data"
    }
   ],
   "source": [
    "plot_decision_regions(X, Y, classifier=network)\n",
    "plt.xlabel('Długość działki [cm]')\n",
    "plt.ylabel('Długość płatka [cm]')\n",
    "plt.legend(loc='upper left')\n",
    "plt.show()"
   ]
  }
 ],
 "metadata": {
  "kernelspec": {
   "display_name": "Python 3.8.10 64-bit",
   "language": "python",
   "name": "python3"
  },
  "language_info": {
   "codemirror_mode": {
    "name": "ipython",
    "version": 3
   },
   "file_extension": ".py",
   "mimetype": "text/x-python",
   "name": "python",
   "nbconvert_exporter": "python",
   "pygments_lexer": "ipython3",
   "version": "3.8.10"
  },
  "orig_nbformat": 4,
  "vscode": {
   "interpreter": {
    "hash": "31f2aee4e71d21fbe5cf8b01ff0e069b9275f58929596ceb00d14d90e3e16cd6"
   }
  }
 },
 "nbformat": 4,
 "nbformat_minor": 2
}
