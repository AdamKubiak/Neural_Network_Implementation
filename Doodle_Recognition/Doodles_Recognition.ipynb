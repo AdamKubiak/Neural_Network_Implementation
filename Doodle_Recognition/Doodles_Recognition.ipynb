{
 "cells": [
  {
   "cell_type": "code",
   "execution_count": 1,
   "metadata": {},
   "outputs": [
    {
     "name": "stdout",
     "output_type": "stream",
     "text": [
      "(1000, 784)\n",
      "(200000, 784) (200000,)\n",
      "(10000, 784) (10000,)\n"
     ]
    }
   ],
   "source": [
    "import numpy as np\n",
    "x = np.load('dataset\\\\full_numpy_bitmap_broccoli.npy')\n",
    "x1 = x[20000:21000]\n",
    "y1 = np.zeros(1000)\n",
    "x = x[:20000]\n",
    "y = np.zeros(20000)\n",
    "print(x1.shape)\n",
    "X_train = x\n",
    "y_train = y\n",
    "X_valid = x1\n",
    "y_valid = y1\n",
    "\n",
    "x = np.load('dataset\\\\full_numpy_bitmap_cruise_ship.npy')\n",
    "x1 = x[20000:21000]\n",
    "y1 = np.zeros(1000)\n",
    "x = x[:20000]\n",
    "y = np.zeros(20000)\n",
    "y1 = np.add(y1,1)\n",
    "\n",
    "\n",
    "y = np.add(y,1)\n",
    "X_train = np.append(X_train,x,axis = 0)\n",
    "y_train = np.append(y_train,y)\n",
    "X_valid = np.append(X_valid,x1,axis =0)\n",
    "y_valid = np.append(y_valid,y1)\n",
    "\n",
    "\n",
    "x = np.load('dataset\\\\full_numpy_bitmap_angel.npy')\n",
    "x1 = x[20000:21000]\n",
    "y1 = np.zeros(1000)\n",
    "x = x[:20000]\n",
    "y = np.zeros(20000)\n",
    "y1 = np.add(y1,2)\n",
    "\n",
    "\n",
    "y = np.add(y,2)\n",
    "X_train = np.append(X_train,x,axis = 0)\n",
    "y_train = np.append(y_train,y)\n",
    "X_valid = np.append(X_valid,x1,axis =0)\n",
    "y_valid = np.append(y_valid,y1)\n",
    "\n",
    "x = np.load('dataset\\\\full_numpy_bitmap_bicycle.npy')\n",
    "x1 = x[20000:21000]\n",
    "y1 = np.zeros(1000)\n",
    "x = x[:20000]\n",
    "y = np.zeros(20000)\n",
    "y1 = np.add(y1,3)\n",
    "\n",
    "\n",
    "y = np.add(y,3)\n",
    "X_train = np.append(X_train,x,axis = 0)\n",
    "y_train = np.append(y_train,y)\n",
    "X_valid = np.append(X_valid,x1,axis =0)\n",
    "y_valid = np.append(y_valid,y1)\n",
    "\n",
    "x = np.load('dataset\\\\full_numpy_bitmap_umbrella.npy')\n",
    "x1 = x[20000:21000]\n",
    "y1 = np.zeros(1000)\n",
    "x = x[:20000]\n",
    "y = np.zeros(20000)\n",
    "y1 = np.add(y1,4)\n",
    "\n",
    "\n",
    "\n",
    "y = np.add(y,4)\n",
    "X_train = np.append(X_train,x,axis = 0)\n",
    "y_train = np.append(y_train,y)\n",
    "X_valid = np.append(X_valid,x1,axis =0)\n",
    "y_valid = np.append(y_valid,y1)\n",
    "\n",
    "x = np.load('dataset\\\\full_numpy_bitmap_octopus.npy')\n",
    "x1 = x[20000:21000]\n",
    "y1 = np.zeros(1000)\n",
    "x = x[:20000]\n",
    "y = np.zeros(20000)\n",
    "y1 = np.add(y1,5)\n",
    "\n",
    "\n",
    "\n",
    "y = np.add(y,5)\n",
    "X_train = np.append(X_train,x,axis = 0)\n",
    "y_train = np.append(y_train,y)\n",
    "X_valid = np.append(X_valid,x1,axis =0)\n",
    "y_valid = np.append(y_valid,y1)\n",
    "\n",
    "x = np.load('dataset\\\\full_numpy_bitmap_house_plant.npy')\n",
    "x1 = x[20000:21000]\n",
    "y1 = np.zeros(1000)\n",
    "x = x[:20000]\n",
    "y = np.zeros(20000)\n",
    "y1 = np.add(y1,6)\n",
    "\n",
    "\n",
    "\n",
    "y = np.add(y,6)\n",
    "X_train = np.append(X_train,x,axis = 0)\n",
    "y_train = np.append(y_train,y)\n",
    "X_valid = np.append(X_valid,x1,axis =0)\n",
    "y_valid = np.append(y_valid,y1)\n",
    "\n",
    "x = np.load('dataset\\\\full_numpy_bitmap_windmill.npy')\n",
    "x1 = x[20000:21000]\n",
    "y1 = np.zeros(1000)\n",
    "x = x[:20000]\n",
    "y = np.zeros(20000)\n",
    "y1 = np.add(y1,7)\n",
    "\n",
    "\n",
    "\n",
    "y = np.add(y,7)\n",
    "X_train = np.append(X_train,x,axis = 0)\n",
    "y_train = np.append(y_train,y)\n",
    "X_valid = np.append(X_valid,x1,axis =0)\n",
    "y_valid = np.append(y_valid,y1)\n",
    "\n",
    "x = np.load('dataset\\\\full_numpy_bitmap_airplane.npy')\n",
    "x1 = x[20000:21000]\n",
    "y1 = np.zeros(1000)\n",
    "x = x[:20000]\n",
    "y = np.zeros(20000)\n",
    "y1 = np.add(y1,8)\n",
    "\n",
    "\n",
    "\n",
    "y = np.add(y,8)\n",
    "X_train = np.append(X_train,x,axis = 0)\n",
    "y_train = np.append(y_train,y)\n",
    "X_valid = np.append(X_valid,x1,axis =0)\n",
    "y_valid = np.append(y_valid,y1)\n",
    "\n",
    "x = np.load('dataset\\\\full_numpy_bitmap_popsicle.npy')\n",
    "x1 = x[20000:21000]\n",
    "y1 = np.zeros(1000)\n",
    "x = x[:20000]\n",
    "y = np.zeros(20000)\n",
    "y1 = np.add(y1,9)\n",
    "\n",
    "\n",
    "\n",
    "y = np.add(y,9)\n",
    "X_train = np.append(X_train,x,axis = 0)\n",
    "y_train = np.append(y_train,y)\n",
    "X_valid = np.append(X_valid,x1,axis =0)\n",
    "y_valid = np.append(y_valid,y1)\n",
    "\n",
    "y_train = y_train.astype(int)\n",
    "y_valid = y_valid.astype(int)\n",
    "\n",
    "np.save('Dane\\\\X_train.npy', X_train)\n",
    "np.save('Dane\\\\y_train.npy', y_train)\n",
    "np.save('Dane\\\\X_valid.npy', X_valid)\n",
    "np.save('Dane\\\\y_valid.npy', y_valid)\n",
    "\n",
    "print(X_train.shape,y_train.shape)\n",
    "print(X_valid.shape,y_valid.shape)"
   ]
  },
  {
   "cell_type": "code",
   "execution_count": 3,
   "metadata": {},
   "outputs": [],
   "source": [
    "import NeuralNetwork as nn\n",
    "import matplotlib.pyplot as plt\n",
    "import numpy as np\n",
    "\n",
    "X_train = np.load('Dane\\\\X_train.npy')\n",
    "y_train = np.load('Dane\\\\y_train.npy')\n",
    "X_valid = np.load('Dane\\\\X_valid.npy')\n",
    "y_valid = np.load('Dane\\\\y_valid.npy')"
   ]
  },
  {
   "cell_type": "code",
   "execution_count": null,
   "metadata": {},
   "outputs": [],
   "source": [
    "layers = [784,300,100,60,30,10]\n",
    "network = nn.NeuralNetwork(layers,200,0.0005,0.01,100)\n",
    "network.learn(X_train, y_train, X_valid, y_valid)"
   ]
  },
  {
   "cell_type": "code",
   "execution_count": 1,
   "metadata": {},
   "outputs": [],
   "source": [
    "import NeuralNetwork as nn\n",
    "import matplotlib.pyplot as plt\n",
    "import numpy as np\n",
    "import joblib\n",
    "\n",
    "network = joblib.load('model.joblib')"
   ]
  },
  {
   "cell_type": "code",
   "execution_count": 10,
   "metadata": {},
   "outputs": [
    {
     "data": {
      "image/png": "[encoded data removed]",
      "text/plain": [
       "<Figure size 640x480 with 1 Axes>"
      ]
     },
     "metadata": {},
     "output_type": "display_data"
    }
   ],
   "source": [
    "plt.plot(range(network.epoch), network.eval_['cost'])\n",
    "plt.ylabel('Koszt')\n",
    "plt.xlabel('Epoki')\n",
    "#plt.savefig('rysunki/12_07.png', dpi=300)\n",
    "plt.show()"
   ]
  },
  {
   "cell_type": "code",
   "execution_count": 5,
   "metadata": {},
   "outputs": [
    {
     "data": {
      "image/png": "[encoded data removed]",
      "text/plain": [
       "<Figure size 640x480 with 1 Axes>"
      ]
     },
     "metadata": {},
     "output_type": "display_data"
    }
   ],
   "source": [
    "plt.plot(range(network.epoch), network.eval_['train_acc'], \n",
    "         label='Zestaw uczący')\n",
    "plt.plot(range(network.epoch), network.eval_['valid_acc'], \n",
    "         label='Zestaw walidacyjny', linestyle='--')\n",
    "plt.ylabel('Dokładność')\n",
    "plt.xlabel('Epoki')\n",
    "plt.legend()\n",
    "#plt.savefig('rysunki/12_08.png', dpi=300)\n",
    "plt.show()"
   ]
  },
  {
   "cell_type": "code",
   "execution_count": 6,
   "metadata": {},
   "outputs": [
    {
     "name": "stdout",
     "output_type": "stream",
     "text": [
      "Dokładność dla danych testowych: 85.01%\n"
     ]
    },
    {
     "name": "stderr",
     "output_type": "stream",
     "text": [
      "c:\\Users\\Adum\\Desktop\\Neural_Network_Doodle\\Neural_Network_Implementation\\Neural_Network_Script.py:9: RuntimeWarning: overflow encountered in exp\n",
      "  return 1./(1. + np.exp(-weightedInput))\n",
      "C:\\Users\\Adum\\AppData\\Local\\Temp\\ipykernel_12892\\1289264210.py:3: DeprecationWarning: `np.float` is a deprecated alias for the builtin `float`. To silence this warning, use `float` by itself. Doing this will not modify any behavior and is safe. If you specifically wanted the numpy scalar type, use `np.float64` here.\n",
      "Deprecated in NumPy 1.20; for more details and guidance: https://numpy.org/devdocs/release/1.20.0-notes.html#deprecations\n",
      "  .astype(np.float) / X_valid.shape[0])\n"
     ]
    }
   ],
   "source": [
    "y_test_pred = network.network_predict(X_valid)\n",
    "acc = (np.sum(y_valid == y_test_pred)\n",
    "       .astype(np.float) / X_valid.shape[0])\n",
    "\n",
    "print('Dokładność dla danych testowych: %.2f%%' % (acc * 100.))"
   ]
  },
  {
   "cell_type": "code",
   "execution_count": 2,
   "metadata": {},
   "outputs": [
    {
     "name": "stderr",
     "output_type": "stream",
     "text": [
      "angel  ship "
     ]
    }
   ],
   "source": [
    "import tkinter as tk\n",
    "from PIL import ImageTk, Image\n",
    "import PIL.Image\n",
    "import io\n",
    "import matplotlib.pyplot as plt\n",
    "from matplotlib.backends.backend_tkagg import FigureCanvasTkAgg\n",
    "import matplotlib.cm as cm\n",
    "from PIL import ImageGrab\n",
    "import imageio\n",
    "import sys\n",
    "class ExampleApp(tk.Tk):\n",
    "    def __init__(self):\n",
    "        tk.Tk.__init__(self)\n",
    "        self.resizable(0,0)\n",
    "        self.previous_x = self.previous_y = 0\n",
    "        self.x = self.y = 0\n",
    "        self.canvas = tk.Canvas(self, width=600, height=600, bg = \"black\", cursor=\"cross\")\n",
    "        self.canvas.pack(side=\"top\", fill=\"both\", expand=True)\n",
    "        self.button_predict = tk.Button(self, text = \"Predict image\", command = self.pred_doodle)\n",
    "        self.button_predict.pack(side=\"top\", fill=\"both\", expand=True)\n",
    "        self.button_clear = tk.Button(self, text = \"Clear\", command = self.clear_all)\n",
    "        self.button_clear.pack(side=\"top\", fill=\"both\", expand=True)\n",
    "        self.canvas.bind(\"<Motion>\", self.tell_me_where_you_are)\n",
    "        self.canvas.bind(\"<B1-Motion>\", self.draw_from_where_you_are)\n",
    "        self.ans = [\"broccoli\",\"cruise ship\",\"angel\",\"bicycle\",\"umbrella\",\"octopus\",\"plant\",\"windmill\",\"airplane\",\"popsicle\"]\n",
    "    def clear_all(self):\n",
    "        self.canvas.delete(\"all\")\n",
    "\n",
    "    def print_points(self):\n",
    "        a = 0\n",
    "\n",
    "    def tell_me_where_you_are(self, event):\n",
    "        self.previous_x = event.x\n",
    "        self.previous_y = event.y\n",
    "\n",
    "    def draw_from_where_you_are(self, event):\n",
    "        self.x = event.x\n",
    "        self.y = event.y\n",
    "        self.canvas.create_line(self.previous_x, self.previous_y, \n",
    "                                self.x, self.y,fill=\"white\",width= 20,capstyle=\"round\")  \n",
    "        r = 40\n",
    "        #self.canvas.create_oval(self.x - r, self.y - r, self.x + r, self.y + r, fill='white')     \n",
    "        self.previous_x = self.x\n",
    "        self.previous_y = self.y\n",
    "        \n",
    "        \n",
    "\n",
    "    def pred_doodle(self):\n",
    "        #ps = self.canvas.postscript(colormode='color')\n",
    "        ImageGrab.grab(bbox=(\n",
    "        self.canvas.winfo_rootx()+3,\n",
    "        self.canvas.winfo_rooty()+3,\n",
    "        self.canvas.winfo_rootx() + 600,\n",
    "        self.canvas.winfo_rooty() + 600\n",
    "    )).save(\"fileName\" + '.png', 'png')\n",
    "        #im1 = imageio.imread('fileName.png')\n",
    "        im1 = PIL.Image.open(\"fileName.png\")\n",
    "        img = im1.resize((28, 28))\n",
    "        # convert rgb to grayscale\n",
    "        img_grey = img.convert('L')\n",
    "        img_array = np.array(img_grey)\n",
    "        #img_array = np.array(img)\n",
    "        \n",
    "        \n",
    "\n",
    "        img_array = img_array / 255.0\n",
    "        #plt.imshow(img_array, cmap=cm.Greys_r)\n",
    "        #plt.show() \n",
    "        img_array = img_array.reshape(1,784)\n",
    "\n",
    "        \n",
    "        \n",
    "        res = network.network_predict(img_array)\n",
    "        sys.stderr.write('\\r%s '%\n",
    "                             (self.ans[res[0]]))\n",
    "        sys.stderr.flush()\n",
    "        \n",
    "if __name__ == \"__main__\":\n",
    "    app = ExampleApp()\n",
    "    app.mainloop()"
   ]
  },
  {
   "cell_type": "code",
   "execution_count": null,
   "metadata": {},
   "outputs": [],
   "source": []
  }
 ],
 "metadata": {
  "kernelspec": {
   "display_name": "Python 3.11.0 64-bit",
   "language": "python",
   "name": "python3"
  },
  "language_info": {
   "codemirror_mode": {
    "name": "ipython",
    "version": 3
   },
   "file_extension": ".py",
   "mimetype": "text/x-python",
   "name": "python",
   "nbconvert_exporter": "python",
   "pygments_lexer": "ipython3",
   "version": "3.11.0"
  },
  "orig_nbformat": 4,
  "vscode": {
   "interpreter": {
    "hash": "5238573367df39f7286bb46f9ff5f08f63a01a80960060ce41e3c79b190280fa"
   }
  }
 },
 "nbformat": 4,
 "nbformat_minor": 2
}
